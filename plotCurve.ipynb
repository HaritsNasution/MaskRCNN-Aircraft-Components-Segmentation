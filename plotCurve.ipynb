{
 "cells": [
  {
   "cell_type": "code",
   "execution_count": 7,
   "metadata": {},
   "outputs": [],
   "source": [
    "import pandas as pd\n",
    "train = pd.read_csv(\"train_loss.csv\")\n",
    "val = pd.read_csv(\"val_loss.csv\")"
   ]
  },
  {
   "cell_type": "code",
   "execution_count": 8,
   "metadata": {},
   "outputs": [
    {
     "data": {
      "text/html": [
       "<div>\n",
       "<style scoped>\n",
       "    .dataframe tbody tr th:only-of-type {\n",
       "        vertical-align: middle;\n",
       "    }\n",
       "\n",
       "    .dataframe tbody tr th {\n",
       "        vertical-align: top;\n",
       "    }\n",
       "\n",
       "    .dataframe thead th {\n",
       "        text-align: right;\n",
       "    }\n",
       "</style>\n",
       "<table border=\"1\" class=\"dataframe\">\n",
       "  <thead>\n",
       "    <tr style=\"text-align: right;\">\n",
       "      <th></th>\n",
       "      <th>Wall time</th>\n",
       "      <th>Step</th>\n",
       "      <th>Value</th>\n",
       "    </tr>\n",
       "  </thead>\n",
       "  <tbody>\n",
       "    <tr>\n",
       "      <th>0</th>\n",
       "      <td>1.697215e+09</td>\n",
       "      <td>0</td>\n",
       "      <td>2.987270</td>\n",
       "    </tr>\n",
       "    <tr>\n",
       "      <th>1</th>\n",
       "      <td>1.697215e+09</td>\n",
       "      <td>1</td>\n",
       "      <td>2.538214</td>\n",
       "    </tr>\n",
       "    <tr>\n",
       "      <th>2</th>\n",
       "      <td>1.697215e+09</td>\n",
       "      <td>2</td>\n",
       "      <td>2.215809</td>\n",
       "    </tr>\n",
       "    <tr>\n",
       "      <th>3</th>\n",
       "      <td>1.697215e+09</td>\n",
       "      <td>3</td>\n",
       "      <td>2.160005</td>\n",
       "    </tr>\n",
       "    <tr>\n",
       "      <th>4</th>\n",
       "      <td>1.697215e+09</td>\n",
       "      <td>4</td>\n",
       "      <td>1.957391</td>\n",
       "    </tr>\n",
       "    <tr>\n",
       "      <th>...</th>\n",
       "      <td>...</td>\n",
       "      <td>...</td>\n",
       "      <td>...</td>\n",
       "    </tr>\n",
       "    <tr>\n",
       "      <th>295</th>\n",
       "      <td>1.697266e+09</td>\n",
       "      <td>295</td>\n",
       "      <td>1.308925</td>\n",
       "    </tr>\n",
       "    <tr>\n",
       "      <th>296</th>\n",
       "      <td>1.697266e+09</td>\n",
       "      <td>296</td>\n",
       "      <td>1.321511</td>\n",
       "    </tr>\n",
       "    <tr>\n",
       "      <th>297</th>\n",
       "      <td>1.697266e+09</td>\n",
       "      <td>297</td>\n",
       "      <td>1.320898</td>\n",
       "    </tr>\n",
       "    <tr>\n",
       "      <th>298</th>\n",
       "      <td>1.697267e+09</td>\n",
       "      <td>298</td>\n",
       "      <td>1.319396</td>\n",
       "    </tr>\n",
       "    <tr>\n",
       "      <th>299</th>\n",
       "      <td>1.697267e+09</td>\n",
       "      <td>299</td>\n",
       "      <td>1.338714</td>\n",
       "    </tr>\n",
       "  </tbody>\n",
       "</table>\n",
       "<p>300 rows × 3 columns</p>\n",
       "</div>"
      ],
      "text/plain": [
       "        Wall time  Step     Value\n",
       "0    1.697215e+09     0  2.987270\n",
       "1    1.697215e+09     1  2.538214\n",
       "2    1.697215e+09     2  2.215809\n",
       "3    1.697215e+09     3  2.160005\n",
       "4    1.697215e+09     4  1.957391\n",
       "..            ...   ...       ...\n",
       "295  1.697266e+09   295  1.308925\n",
       "296  1.697266e+09   296  1.321511\n",
       "297  1.697266e+09   297  1.320898\n",
       "298  1.697267e+09   298  1.319396\n",
       "299  1.697267e+09   299  1.338714\n",
       "\n",
       "[300 rows x 3 columns]"
      ]
     },
     "execution_count": 8,
     "metadata": {},
     "output_type": "execute_result"
    }
   ],
   "source": [
    "train"
   ]
  },
  {
   "cell_type": "code",
   "execution_count": 9,
   "metadata": {},
   "outputs": [
    {
     "data": {
      "text/html": [
       "<div>\n",
       "<style scoped>\n",
       "    .dataframe tbody tr th:only-of-type {\n",
       "        vertical-align: middle;\n",
       "    }\n",
       "\n",
       "    .dataframe tbody tr th {\n",
       "        vertical-align: top;\n",
       "    }\n",
       "\n",
       "    .dataframe thead th {\n",
       "        text-align: right;\n",
       "    }\n",
       "</style>\n",
       "<table border=\"1\" class=\"dataframe\">\n",
       "  <thead>\n",
       "    <tr style=\"text-align: right;\">\n",
       "      <th></th>\n",
       "      <th>Wall time</th>\n",
       "      <th>Step</th>\n",
       "      <th>Value</th>\n",
       "    </tr>\n",
       "  </thead>\n",
       "  <tbody>\n",
       "    <tr>\n",
       "      <th>0</th>\n",
       "      <td>1.697215e+09</td>\n",
       "      <td>0</td>\n",
       "      <td>2.501243</td>\n",
       "    </tr>\n",
       "    <tr>\n",
       "      <th>1</th>\n",
       "      <td>1.697215e+09</td>\n",
       "      <td>1</td>\n",
       "      <td>2.023386</td>\n",
       "    </tr>\n",
       "    <tr>\n",
       "      <th>2</th>\n",
       "      <td>1.697215e+09</td>\n",
       "      <td>2</td>\n",
       "      <td>1.714706</td>\n",
       "    </tr>\n",
       "    <tr>\n",
       "      <th>3</th>\n",
       "      <td>1.697215e+09</td>\n",
       "      <td>3</td>\n",
       "      <td>1.810840</td>\n",
       "    </tr>\n",
       "    <tr>\n",
       "      <th>4</th>\n",
       "      <td>1.697215e+09</td>\n",
       "      <td>4</td>\n",
       "      <td>1.741876</td>\n",
       "    </tr>\n",
       "    <tr>\n",
       "      <th>...</th>\n",
       "      <td>...</td>\n",
       "      <td>...</td>\n",
       "      <td>...</td>\n",
       "    </tr>\n",
       "    <tr>\n",
       "      <th>295</th>\n",
       "      <td>1.697266e+09</td>\n",
       "      <td>295</td>\n",
       "      <td>1.118613</td>\n",
       "    </tr>\n",
       "    <tr>\n",
       "      <th>296</th>\n",
       "      <td>1.697266e+09</td>\n",
       "      <td>296</td>\n",
       "      <td>1.008768</td>\n",
       "    </tr>\n",
       "    <tr>\n",
       "      <th>297</th>\n",
       "      <td>1.697266e+09</td>\n",
       "      <td>297</td>\n",
       "      <td>1.166432</td>\n",
       "    </tr>\n",
       "    <tr>\n",
       "      <th>298</th>\n",
       "      <td>1.697267e+09</td>\n",
       "      <td>298</td>\n",
       "      <td>1.143481</td>\n",
       "    </tr>\n",
       "    <tr>\n",
       "      <th>299</th>\n",
       "      <td>1.697267e+09</td>\n",
       "      <td>299</td>\n",
       "      <td>1.203814</td>\n",
       "    </tr>\n",
       "  </tbody>\n",
       "</table>\n",
       "<p>300 rows × 3 columns</p>\n",
       "</div>"
      ],
      "text/plain": [
       "        Wall time  Step     Value\n",
       "0    1.697215e+09     0  2.501243\n",
       "1    1.697215e+09     1  2.023386\n",
       "2    1.697215e+09     2  1.714706\n",
       "3    1.697215e+09     3  1.810840\n",
       "4    1.697215e+09     4  1.741876\n",
       "..            ...   ...       ...\n",
       "295  1.697266e+09   295  1.118613\n",
       "296  1.697266e+09   296  1.008768\n",
       "297  1.697266e+09   297  1.166432\n",
       "298  1.697267e+09   298  1.143481\n",
       "299  1.697267e+09   299  1.203814\n",
       "\n",
       "[300 rows x 3 columns]"
      ]
     },
     "execution_count": 9,
     "metadata": {},
     "output_type": "execute_result"
    }
   ],
   "source": [
    "val"
   ]
  },
  {
   "cell_type": "code",
   "execution_count": 13,
   "metadata": {},
   "outputs": [
    {
     "data": {
      "text/plain": [
       "0      2.987270\n",
       "1      2.538214\n",
       "2      2.215809\n",
       "3      2.160005\n",
       "4      1.957391\n",
       "         ...   \n",
       "295    1.308925\n",
       "296    1.321511\n",
       "297    1.320898\n",
       "298    1.319396\n",
       "299    1.338714\n",
       "Name: Value, Length: 300, dtype: float64"
      ]
     },
     "execution_count": 13,
     "metadata": {},
     "output_type": "execute_result"
    }
   ],
   "source": [
    "train[\"Value\"]"
   ]
  },
  {
   "cell_type": "code",
   "execution_count": 17,
   "metadata": {},
   "outputs": [
    {
     "data": {
      "text/plain": [
       "<matplotlib.legend.Legend at 0x1ec8cf616a0>"
      ]
     },
     "execution_count": 17,
     "metadata": {},
     "output_type": "execute_result"
    },
    {
     "data": {
      "image/png": "[encoded data removed]",
      "text/plain": [
       "<Figure size 640x480 with 1 Axes>"
      ]
     },
     "metadata": {},
     "output_type": "display_data"
    }
   ],
   "source": [
    "import matplotlib.pyplot as plt\n",
    "plt.plot(train[\"Value\"])\n",
    "plt.plot(val[\"Value\"])\n",
    "plt.legend([\"train_loss\",\"val_loss\"])"
   ]
  },
  {
   "cell_type": "code",
   "execution_count": 23,
   "metadata": {},
   "outputs": [],
   "source": [
    "arr = [4,3,9,7,2,1]"
   ]
  },
  {
   "cell_type": "code",
   "execution_count": 24,
   "metadata": {},
   "outputs": [],
   "source": [
    "for i in range(len(arr)):\n",
    "    sr = int(arr[i]**0.5)\n",
    "    if sr**2==arr[i]:\n",
    "        arr[i] = int(arr[i]**0.5)\n",
    "    else:\n",
    "        arr[i] = int(arr[i]**2)\n",
    "pass"
   ]
  },
  {
   "cell_type": "code",
   "execution_count": 25,
   "metadata": {},
   "outputs": [
    {
     "data": {
      "text/plain": [
       "[2, 9, 3, 49, 4, 1]"
      ]
     },
     "execution_count": 25,
     "metadata": {},
     "output_type": "execute_result"
    }
   ],
   "source": [
    "arr"
   ]
  }
 ],
 "metadata": {
  "kernelspec": {
   "display_name": "planemrcnn",
   "language": "python",
   "name": "python3"
  },
  "language_info": {
   "codemirror_mode": {
    "name": "ipython",
    "version": 3
   },
   "file_extension": ".py",
   "mimetype": "text/x-python",
   "name": "python",
   "nbconvert_exporter": "python",
   "pygments_lexer": "ipython3",
   "version": "3.8.11"
  }
 },
 "nbformat": 4,
 "nbformat_minor": 2
}
